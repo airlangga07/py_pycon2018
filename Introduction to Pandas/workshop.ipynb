{
 "cells": [
  {
   "cell_type": "code",
   "execution_count": 1,
   "metadata": {
    "collapsed": true
   },
   "outputs": [],
   "source": [
    "import pandas as pd\n",
    "import numpy as np"
   ]
  },
  {
   "cell_type": "code",
   "execution_count": 20,
   "metadata": {
    "collapsed": true
   },
   "outputs": [],
   "source": [
    "# Part 1"
   ]
  },
  {
   "cell_type": "code",
   "execution_count": 2,
   "metadata": {
    "collapsed": true
   },
   "outputs": [],
   "source": [
    "df1 = pd.read_csv(\"data/users_with_age_data.csv\")"
   ]
  },
  {
   "cell_type": "code",
   "execution_count": 3,
   "metadata": {
    "collapsed": true
   },
   "outputs": [],
   "source": [
    "df2 = pd.read_csv(\"data/users_with_gender_data.csv\")"
   ]
  },
  {
   "cell_type": "code",
   "execution_count": 4,
   "metadata": {},
   "outputs": [
    {
     "data": {
      "text/html": [
       "<div>\n",
       "<style>\n",
       "    .dataframe thead tr:only-child th {\n",
       "        text-align: right;\n",
       "    }\n",
       "\n",
       "    .dataframe thead th {\n",
       "        text-align: left;\n",
       "    }\n",
       "\n",
       "    .dataframe tbody tr th {\n",
       "        vertical-align: top;\n",
       "    }\n",
       "</style>\n",
       "<table border=\"1\" class=\"dataframe\">\n",
       "  <thead>\n",
       "    <tr style=\"text-align: right;\">\n",
       "      <th></th>\n",
       "      <th>user_id</th>\n",
       "      <th>age</th>\n",
       "      <th>gender</th>\n",
       "    </tr>\n",
       "  </thead>\n",
       "  <tbody>\n",
       "    <tr>\n",
       "      <th>0</th>\n",
       "      <td>1</td>\n",
       "      <td>30</td>\n",
       "      <td>'M'</td>\n",
       "    </tr>\n",
       "    <tr>\n",
       "      <th>1</th>\n",
       "      <td>2</td>\n",
       "      <td>40</td>\n",
       "      <td>'F'</td>\n",
       "    </tr>\n",
       "    <tr>\n",
       "      <th>2</th>\n",
       "      <td>4</td>\n",
       "      <td>14</td>\n",
       "      <td>'F'</td>\n",
       "    </tr>\n",
       "    <tr>\n",
       "      <th>3</th>\n",
       "      <td>6</td>\n",
       "      <td>35</td>\n",
       "      <td>'M'</td>\n",
       "    </tr>\n",
       "    <tr>\n",
       "      <th>4</th>\n",
       "      <td>7</td>\n",
       "      <td>16</td>\n",
       "      <td>NaN</td>\n",
       "    </tr>\n",
       "    <tr>\n",
       "      <th>5</th>\n",
       "      <td>8</td>\n",
       "      <td>50</td>\n",
       "      <td>NaN</td>\n",
       "    </tr>\n",
       "  </tbody>\n",
       "</table>\n",
       "</div>"
      ],
      "text/plain": [
       "   user_id  age gender\n",
       "0        1   30    'M'\n",
       "1        2   40    'F'\n",
       "2        4   14    'F'\n",
       "3        6   35    'M'\n",
       "4        7   16    NaN\n",
       "5        8   50    NaN"
      ]
     },
     "execution_count": 4,
     "metadata": {},
     "output_type": "execute_result"
    }
   ],
   "source": [
    "df1.merge(df2, on=\"user_id\", how=\"left\")"
   ]
  },
  {
   "cell_type": "code",
   "execution_count": 7,
   "metadata": {
    "collapsed": true
   },
   "outputs": [],
   "source": [
    "users = df1.merge(df2, on=\"user_id\", how=\"outer\")"
   ]
  },
  {
   "cell_type": "code",
   "execution_count": 21,
   "metadata": {
    "collapsed": true
   },
   "outputs": [],
   "source": [
    "users['gender'] = users['gender'].fillna(\"'F'\")"
   ]
  },
  {
   "cell_type": "code",
   "execution_count": 22,
   "metadata": {
    "collapsed": true
   },
   "outputs": [],
   "source": [
    "users['age'] = users['age'].fillna(users['age'].mean())"
   ]
  },
  {
   "cell_type": "code",
   "execution_count": 8,
   "metadata": {},
   "outputs": [
    {
     "data": {
      "text/html": [
       "<div>\n",
       "<style>\n",
       "    .dataframe thead tr:only-child th {\n",
       "        text-align: right;\n",
       "    }\n",
       "\n",
       "    .dataframe thead th {\n",
       "        text-align: left;\n",
       "    }\n",
       "\n",
       "    .dataframe tbody tr th {\n",
       "        vertical-align: top;\n",
       "    }\n",
       "</style>\n",
       "<table border=\"1\" class=\"dataframe\">\n",
       "  <thead>\n",
       "    <tr style=\"text-align: right;\">\n",
       "      <th></th>\n",
       "      <th>user_id</th>\n",
       "      <th>age</th>\n",
       "      <th>gender</th>\n",
       "    </tr>\n",
       "  </thead>\n",
       "  <tbody>\n",
       "    <tr>\n",
       "      <th>0</th>\n",
       "      <td>1</td>\n",
       "      <td>30.000000</td>\n",
       "      <td>'M'</td>\n",
       "    </tr>\n",
       "    <tr>\n",
       "      <th>1</th>\n",
       "      <td>2</td>\n",
       "      <td>40.000000</td>\n",
       "      <td>'F'</td>\n",
       "    </tr>\n",
       "    <tr>\n",
       "      <th>2</th>\n",
       "      <td>4</td>\n",
       "      <td>14.000000</td>\n",
       "      <td>'F'</td>\n",
       "    </tr>\n",
       "    <tr>\n",
       "      <th>3</th>\n",
       "      <td>6</td>\n",
       "      <td>35.000000</td>\n",
       "      <td>'M'</td>\n",
       "    </tr>\n",
       "    <tr>\n",
       "      <th>4</th>\n",
       "      <td>7</td>\n",
       "      <td>16.000000</td>\n",
       "      <td>'F'</td>\n",
       "    </tr>\n",
       "    <tr>\n",
       "      <th>5</th>\n",
       "      <td>8</td>\n",
       "      <td>50.000000</td>\n",
       "      <td>'F'</td>\n",
       "    </tr>\n",
       "    <tr>\n",
       "      <th>6</th>\n",
       "      <td>3</td>\n",
       "      <td>30.833333</td>\n",
       "      <td>'M'</td>\n",
       "    </tr>\n",
       "    <tr>\n",
       "      <th>7</th>\n",
       "      <td>5</td>\n",
       "      <td>30.833333</td>\n",
       "      <td>'M'</td>\n",
       "    </tr>\n",
       "  </tbody>\n",
       "</table>\n",
       "</div>"
      ],
      "text/plain": [
       "   user_id        age gender\n",
       "0        1  30.000000    'M'\n",
       "1        2  40.000000    'F'\n",
       "2        4  14.000000    'F'\n",
       "3        6  35.000000    'M'\n",
       "4        7  16.000000    'F'\n",
       "5        8  50.000000    'F'\n",
       "6        3  30.833333    'M'\n",
       "7        5  30.833333    'M'"
      ]
     },
     "execution_count": 8,
     "metadata": {},
     "output_type": "execute_result"
    }
   ],
   "source": [
    "users"
   ]
  },
  {
   "cell_type": "code",
   "execution_count": 14,
   "metadata": {},
   "outputs": [],
   "source": [
    "grouped = users.groupby('gender')"
   ]
  },
  {
   "cell_type": "code",
   "execution_count": 15,
   "metadata": {},
   "outputs": [
    {
     "data": {
      "text/html": [
       "<div>\n",
       "<style>\n",
       "    .dataframe thead tr:only-child th {\n",
       "        text-align: right;\n",
       "    }\n",
       "\n",
       "    .dataframe thead th {\n",
       "        text-align: left;\n",
       "    }\n",
       "\n",
       "    .dataframe tbody tr th {\n",
       "        vertical-align: top;\n",
       "    }\n",
       "</style>\n",
       "<table border=\"1\" class=\"dataframe\">\n",
       "  <thead>\n",
       "    <tr style=\"text-align: right;\">\n",
       "      <th></th>\n",
       "      <th>user_id</th>\n",
       "      <th>age</th>\n",
       "    </tr>\n",
       "    <tr>\n",
       "      <th>gender</th>\n",
       "      <th></th>\n",
       "      <th></th>\n",
       "    </tr>\n",
       "  </thead>\n",
       "  <tbody>\n",
       "    <tr>\n",
       "      <th>'F'</th>\n",
       "      <td>4</td>\n",
       "      <td>4</td>\n",
       "    </tr>\n",
       "    <tr>\n",
       "      <th>'M'</th>\n",
       "      <td>4</td>\n",
       "      <td>4</td>\n",
       "    </tr>\n",
       "  </tbody>\n",
       "</table>\n",
       "</div>"
      ],
      "text/plain": [
       "        user_id  age\n",
       "gender              \n",
       "'F'           4    4\n",
       "'M'           4    4"
      ]
     },
     "execution_count": 15,
     "metadata": {},
     "output_type": "execute_result"
    }
   ],
   "source": [
    "grouped.count() # aggregation"
   ]
  },
  {
   "cell_type": "code",
   "execution_count": 16,
   "metadata": {},
   "outputs": [
    {
     "data": {
      "text/plain": [
       "gender\n",
       "'F'    30.000000\n",
       "'M'    31.666667\n",
       "Name: age, dtype: float64"
      ]
     },
     "execution_count": 16,
     "metadata": {},
     "output_type": "execute_result"
    }
   ],
   "source": [
    "grouped['age'].mean() # get mean age of each group"
   ]
  },
  {
   "cell_type": "code",
   "execution_count": 17,
   "metadata": {
    "collapsed": true
   },
   "outputs": [],
   "source": [
    "users['minor'] = users['age'].apply(lambda x: True if x < 18 else False)\n",
    "\n",
    "#def func(x):\n",
    "#    if x < 18:\n",
    "#        return True\n",
    "#    return False\n",
    "#\n",
    "#users['minor'] = users['age'].apply(func)"
   ]
  },
  {
   "cell_type": "code",
   "execution_count": 18,
   "metadata": {},
   "outputs": [
    {
     "data": {
      "text/html": [
       "<div>\n",
       "<style>\n",
       "    .dataframe thead tr:only-child th {\n",
       "        text-align: right;\n",
       "    }\n",
       "\n",
       "    .dataframe thead th {\n",
       "        text-align: left;\n",
       "    }\n",
       "\n",
       "    .dataframe tbody tr th {\n",
       "        vertical-align: top;\n",
       "    }\n",
       "</style>\n",
       "<table border=\"1\" class=\"dataframe\">\n",
       "  <thead>\n",
       "    <tr style=\"text-align: right;\">\n",
       "      <th></th>\n",
       "      <th>user_id</th>\n",
       "      <th>age</th>\n",
       "      <th>gender</th>\n",
       "      <th>minor</th>\n",
       "    </tr>\n",
       "  </thead>\n",
       "  <tbody>\n",
       "    <tr>\n",
       "      <th>0</th>\n",
       "      <td>1</td>\n",
       "      <td>30.000000</td>\n",
       "      <td>'M'</td>\n",
       "      <td>False</td>\n",
       "    </tr>\n",
       "    <tr>\n",
       "      <th>1</th>\n",
       "      <td>2</td>\n",
       "      <td>40.000000</td>\n",
       "      <td>'F'</td>\n",
       "      <td>False</td>\n",
       "    </tr>\n",
       "    <tr>\n",
       "      <th>2</th>\n",
       "      <td>4</td>\n",
       "      <td>14.000000</td>\n",
       "      <td>'F'</td>\n",
       "      <td>True</td>\n",
       "    </tr>\n",
       "    <tr>\n",
       "      <th>3</th>\n",
       "      <td>6</td>\n",
       "      <td>35.000000</td>\n",
       "      <td>'M'</td>\n",
       "      <td>False</td>\n",
       "    </tr>\n",
       "    <tr>\n",
       "      <th>4</th>\n",
       "      <td>7</td>\n",
       "      <td>16.000000</td>\n",
       "      <td>'F'</td>\n",
       "      <td>True</td>\n",
       "    </tr>\n",
       "    <tr>\n",
       "      <th>5</th>\n",
       "      <td>8</td>\n",
       "      <td>50.000000</td>\n",
       "      <td>'F'</td>\n",
       "      <td>False</td>\n",
       "    </tr>\n",
       "    <tr>\n",
       "      <th>6</th>\n",
       "      <td>3</td>\n",
       "      <td>30.833333</td>\n",
       "      <td>'M'</td>\n",
       "      <td>False</td>\n",
       "    </tr>\n",
       "    <tr>\n",
       "      <th>7</th>\n",
       "      <td>5</td>\n",
       "      <td>30.833333</td>\n",
       "      <td>'M'</td>\n",
       "      <td>False</td>\n",
       "    </tr>\n",
       "  </tbody>\n",
       "</table>\n",
       "</div>"
      ],
      "text/plain": [
       "   user_id        age gender  minor\n",
       "0        1  30.000000    'M'  False\n",
       "1        2  40.000000    'F'  False\n",
       "2        4  14.000000    'F'   True\n",
       "3        6  35.000000    'M'  False\n",
       "4        7  16.000000    'F'   True\n",
       "5        8  50.000000    'F'  False\n",
       "6        3  30.833333    'M'  False\n",
       "7        5  30.833333    'M'  False"
      ]
     },
     "execution_count": 18,
     "metadata": {},
     "output_type": "execute_result"
    }
   ],
   "source": [
    "users"
   ]
  },
  {
   "cell_type": "code",
   "execution_count": 19,
   "metadata": {
    "collapsed": true
   },
   "outputs": [],
   "source": [
    "# Part 2"
   ]
  },
  {
   "cell_type": "code",
   "execution_count": 23,
   "metadata": {
    "collapsed": true
   },
   "outputs": [],
   "source": [
    "users = pd.read_csv('movie/users.dat', delimiter='::', names=['user_id','gender','age','occupation_code','zip'], engine='python')"
   ]
  },
  {
   "cell_type": "code",
   "execution_count": 24,
   "metadata": {
    "collapsed": true
   },
   "outputs": [],
   "source": [
    "ratings = pd.read_csv('movie/ratings.dat', delimiter='::', names=['user_id','movie_id','rating','timestamp'], engine='python')"
   ]
  },
  {
   "cell_type": "code",
   "execution_count": 25,
   "metadata": {
    "collapsed": true
   },
   "outputs": [],
   "source": [
    "movies = pd.read_csv('movie/movies.dat', delimiter='::', names=['movie_id','title','genre'], engine='python')"
   ]
  },
  {
   "cell_type": "code",
   "execution_count": 30,
   "metadata": {
    "collapsed": true
   },
   "outputs": [],
   "source": [
    "# joins the all the files\n",
    "merged = users.merge(ratings, on=\"user_id\").merge(movies, on=\"movie_id\")"
   ]
  },
  {
   "cell_type": "code",
   "execution_count": 31,
   "metadata": {
    "collapsed": true
   },
   "outputs": [],
   "source": [
    "sorted_movies = merged.groupby(\"title\").count().sort_values(by='rating', ascending=False)"
   ]
  },
  {
   "cell_type": "code",
   "execution_count": 32,
   "metadata": {},
   "outputs": [
    {
     "data": {
      "text/html": [
       "<div>\n",
       "<style>\n",
       "    .dataframe thead tr:only-child th {\n",
       "        text-align: right;\n",
       "    }\n",
       "\n",
       "    .dataframe thead th {\n",
       "        text-align: left;\n",
       "    }\n",
       "\n",
       "    .dataframe tbody tr th {\n",
       "        vertical-align: top;\n",
       "    }\n",
       "</style>\n",
       "<table border=\"1\" class=\"dataframe\">\n",
       "  <thead>\n",
       "    <tr style=\"text-align: right;\">\n",
       "      <th></th>\n",
       "      <th>user_id</th>\n",
       "      <th>gender</th>\n",
       "      <th>age</th>\n",
       "      <th>occupation_code</th>\n",
       "      <th>zip</th>\n",
       "      <th>movie_id</th>\n",
       "      <th>rating</th>\n",
       "      <th>timestamp</th>\n",
       "      <th>genre</th>\n",
       "    </tr>\n",
       "    <tr>\n",
       "      <th>title</th>\n",
       "      <th></th>\n",
       "      <th></th>\n",
       "      <th></th>\n",
       "      <th></th>\n",
       "      <th></th>\n",
       "      <th></th>\n",
       "      <th></th>\n",
       "      <th></th>\n",
       "      <th></th>\n",
       "    </tr>\n",
       "  </thead>\n",
       "  <tbody>\n",
       "    <tr>\n",
       "      <th>American Beauty (1999)</th>\n",
       "      <td>3428</td>\n",
       "      <td>3428</td>\n",
       "      <td>3428</td>\n",
       "      <td>3428</td>\n",
       "      <td>3428</td>\n",
       "      <td>3428</td>\n",
       "      <td>3428</td>\n",
       "      <td>3428</td>\n",
       "      <td>3428</td>\n",
       "    </tr>\n",
       "    <tr>\n",
       "      <th>Star Wars: Episode IV - A New Hope (1977)</th>\n",
       "      <td>2991</td>\n",
       "      <td>2991</td>\n",
       "      <td>2991</td>\n",
       "      <td>2991</td>\n",
       "      <td>2991</td>\n",
       "      <td>2991</td>\n",
       "      <td>2991</td>\n",
       "      <td>2991</td>\n",
       "      <td>2991</td>\n",
       "    </tr>\n",
       "    <tr>\n",
       "      <th>Star Wars: Episode V - The Empire Strikes Back (1980)</th>\n",
       "      <td>2990</td>\n",
       "      <td>2990</td>\n",
       "      <td>2990</td>\n",
       "      <td>2990</td>\n",
       "      <td>2990</td>\n",
       "      <td>2990</td>\n",
       "      <td>2990</td>\n",
       "      <td>2990</td>\n",
       "      <td>2990</td>\n",
       "    </tr>\n",
       "    <tr>\n",
       "      <th>Star Wars: Episode VI - Return of the Jedi (1983)</th>\n",
       "      <td>2883</td>\n",
       "      <td>2883</td>\n",
       "      <td>2883</td>\n",
       "      <td>2883</td>\n",
       "      <td>2883</td>\n",
       "      <td>2883</td>\n",
       "      <td>2883</td>\n",
       "      <td>2883</td>\n",
       "      <td>2883</td>\n",
       "    </tr>\n",
       "    <tr>\n",
       "      <th>Jurassic Park (1993)</th>\n",
       "      <td>2672</td>\n",
       "      <td>2672</td>\n",
       "      <td>2672</td>\n",
       "      <td>2672</td>\n",
       "      <td>2672</td>\n",
       "      <td>2672</td>\n",
       "      <td>2672</td>\n",
       "      <td>2672</td>\n",
       "      <td>2672</td>\n",
       "    </tr>\n",
       "  </tbody>\n",
       "</table>\n",
       "</div>"
      ],
      "text/plain": [
       "                                                    user_id  gender   age  \\\n",
       "title                                                                       \n",
       "American Beauty (1999)                                 3428    3428  3428   \n",
       "Star Wars: Episode IV - A New Hope (1977)              2991    2991  2991   \n",
       "Star Wars: Episode V - The Empire Strikes Back ...     2990    2990  2990   \n",
       "Star Wars: Episode VI - Return of the Jedi (1983)      2883    2883  2883   \n",
       "Jurassic Park (1993)                                   2672    2672  2672   \n",
       "\n",
       "                                                    occupation_code   zip  \\\n",
       "title                                                                       \n",
       "American Beauty (1999)                                         3428  3428   \n",
       "Star Wars: Episode IV - A New Hope (1977)                      2991  2991   \n",
       "Star Wars: Episode V - The Empire Strikes Back ...             2990  2990   \n",
       "Star Wars: Episode VI - Return of the Jedi (1983)              2883  2883   \n",
       "Jurassic Park (1993)                                           2672  2672   \n",
       "\n",
       "                                                    movie_id  rating  \\\n",
       "title                                                                  \n",
       "American Beauty (1999)                                  3428    3428   \n",
       "Star Wars: Episode IV - A New Hope (1977)               2991    2991   \n",
       "Star Wars: Episode V - The Empire Strikes Back ...      2990    2990   \n",
       "Star Wars: Episode VI - Return of the Jedi (1983)       2883    2883   \n",
       "Jurassic Park (1993)                                    2672    2672   \n",
       "\n",
       "                                                    timestamp  genre  \n",
       "title                                                                 \n",
       "American Beauty (1999)                                   3428   3428  \n",
       "Star Wars: Episode IV - A New Hope (1977)                2991   2991  \n",
       "Star Wars: Episode V - The Empire Strikes Back ...       2990   2990  \n",
       "Star Wars: Episode VI - Return of the Jedi (1983)        2883   2883  \n",
       "Jurassic Park (1993)                                     2672   2672  "
      ]
     },
     "execution_count": 32,
     "metadata": {},
     "output_type": "execute_result"
    }
   ],
   "source": [
    "# displays 5 movies with most # of ratings\n",
    "sorted_movies.head(5)"
   ]
  },
  {
   "cell_type": "code",
   "execution_count": 37,
   "metadata": {
    "collapsed": true,
    "scrolled": true
   },
   "outputs": [],
   "source": [
    "# list moviess with >= 250 ratings\n",
    "active_titles = sorted_movies.query('rating >= 250')\n",
    "# Alternatively:\n",
    "# active_titles = top_movies[top_movies['rating'] >= 250]"
   ]
  },
  {
   "cell_type": "code",
   "execution_count": 54,
   "metadata": {
    "scrolled": true
   },
   "outputs": [],
   "source": [
    "ungrouped_sorted_movies = merged[merged['title'].isin(active_titles.index)]"
   ]
  },
  {
   "cell_type": "code",
   "execution_count": 58,
   "metadata": {
    "scrolled": true
   },
   "outputs": [],
   "source": [
    "separated_rating = ungrouped_sorted_movies.groupby(['gender','title'], as_index=False).agg({'rating':np.mean})"
   ]
  },
  {
   "cell_type": "code",
   "execution_count": 66,
   "metadata": {},
   "outputs": [
    {
     "data": {
      "text/html": [
       "<div>\n",
       "<style>\n",
       "    .dataframe thead tr:only-child th {\n",
       "        text-align: right;\n",
       "    }\n",
       "\n",
       "    .dataframe thead th {\n",
       "        text-align: left;\n",
       "    }\n",
       "\n",
       "    .dataframe tbody tr th {\n",
       "        vertical-align: top;\n",
       "    }\n",
       "</style>\n",
       "<table border=\"1\" class=\"dataframe\">\n",
       "  <thead>\n",
       "    <tr style=\"text-align: right;\">\n",
       "      <th></th>\n",
       "      <th>gender</th>\n",
       "      <th>title</th>\n",
       "      <th>rating</th>\n",
       "    </tr>\n",
       "  </thead>\n",
       "  <tbody>\n",
       "    <tr>\n",
       "      <th>1676</th>\n",
       "      <td>M</td>\n",
       "      <td>Godfather, The (1972)</td>\n",
       "      <td>4.583333</td>\n",
       "    </tr>\n",
       "    <tr>\n",
       "      <th>2175</th>\n",
       "      <td>M</td>\n",
       "      <td>Seven Samurai (The Magnificent Seven) (Shichin...</td>\n",
       "      <td>4.576628</td>\n",
       "    </tr>\n",
       "    <tr>\n",
       "      <th>2187</th>\n",
       "      <td>M</td>\n",
       "      <td>Shawshank Redemption, The (1994)</td>\n",
       "      <td>4.560625</td>\n",
       "    </tr>\n",
       "  </tbody>\n",
       "</table>\n",
       "</div>"
      ],
      "text/plain": [
       "     gender                                              title    rating\n",
       "1676      M                              Godfather, The (1972)  4.583333\n",
       "2175      M  Seven Samurai (The Magnificent Seven) (Shichin...  4.576628\n",
       "2187      M                   Shawshank Redemption, The (1994)  4.560625"
      ]
     },
     "execution_count": 66,
     "metadata": {},
     "output_type": "execute_result"
    }
   ],
   "source": [
    "# movies with highest rating for male & female ?\n",
    "separated_rating.sort_values(['gender','rating'],ascending=False).head(3)"
   ]
  },
  {
   "cell_type": "code",
   "execution_count": 65,
   "metadata": {},
   "outputs": [
    {
     "data": {
      "text/html": [
       "<div>\n",
       "<style>\n",
       "    .dataframe thead tr:only-child th {\n",
       "        text-align: right;\n",
       "    }\n",
       "\n",
       "    .dataframe thead th {\n",
       "        text-align: left;\n",
       "    }\n",
       "\n",
       "    .dataframe tbody tr th {\n",
       "        vertical-align: top;\n",
       "    }\n",
       "</style>\n",
       "<table border=\"1\" class=\"dataframe\">\n",
       "  <thead>\n",
       "    <tr style=\"text-align: right;\">\n",
       "      <th></th>\n",
       "      <th>gender</th>\n",
       "      <th>title</th>\n",
       "      <th>rating</th>\n",
       "    </tr>\n",
       "  </thead>\n",
       "  <tbody>\n",
       "    <tr>\n",
       "      <th>1676</th>\n",
       "      <td>M</td>\n",
       "      <td>Godfather, The (1972)</td>\n",
       "      <td>4.583333</td>\n",
       "    </tr>\n",
       "    <tr>\n",
       "      <th>2175</th>\n",
       "      <td>M</td>\n",
       "      <td>Seven Samurai (The Magnificent Seven) (Shichin...</td>\n",
       "      <td>4.576628</td>\n",
       "    </tr>\n",
       "    <tr>\n",
       "      <th>2187</th>\n",
       "      <td>M</td>\n",
       "      <td>Shawshank Redemption, The (1994)</td>\n",
       "      <td>4.560625</td>\n",
       "    </tr>\n",
       "    <tr>\n",
       "      <th>233</th>\n",
       "      <td>F</td>\n",
       "      <td>Close Shave, A (1995)</td>\n",
       "      <td>4.644444</td>\n",
       "    </tr>\n",
       "    <tr>\n",
       "      <th>1203</th>\n",
       "      <td>F</td>\n",
       "      <td>Wrong Trousers, The (1993)</td>\n",
       "      <td>4.588235</td>\n",
       "    </tr>\n",
       "    <tr>\n",
       "      <th>1064</th>\n",
       "      <td>F</td>\n",
       "      <td>Sunset Blvd. (a.k.a. Sunset Boulevard) (1950)</td>\n",
       "      <td>4.572650</td>\n",
       "    </tr>\n",
       "  </tbody>\n",
       "</table>\n",
       "</div>"
      ],
      "text/plain": [
       "     gender                                              title    rating\n",
       "1676      M                              Godfather, The (1972)  4.583333\n",
       "2175      M  Seven Samurai (The Magnificent Seven) (Shichin...  4.576628\n",
       "2187      M                   Shawshank Redemption, The (1994)  4.560625\n",
       "233       F                              Close Shave, A (1995)  4.644444\n",
       "1203      F                         Wrong Trousers, The (1993)  4.588235\n",
       "1064      F      Sunset Blvd. (a.k.a. Sunset Boulevard) (1950)  4.572650"
      ]
     },
     "execution_count": 65,
     "metadata": {},
     "output_type": "execute_result"
    }
   ],
   "source": [
    "# movies with highest rating for male & female\n",
    "separated_rating.sort_values(['gender','rating'],ascending=False).groupby('gender').head(3)"
   ]
  },
  {
   "cell_type": "code",
   "execution_count": 70,
   "metadata": {},
   "outputs": [],
   "source": [
    "pivoted_ratings = separated_rating.pivot('title', 'gender')"
   ]
  },
  {
   "cell_type": "code",
   "execution_count": 75,
   "metadata": {
    "scrolled": true
   },
   "outputs": [
    {
     "data": {
      "text/plain": [
       "title\n",
       "Good, The Bad and The Ugly, The (1966)        -0.726351\n",
       "Kentucky Fried Movie, The (1977)              -0.676359\n",
       "Dumb & Dumber (1994)                          -0.638608\n",
       "Longest Day, The (1962)                       -0.619682\n",
       "Cable Guy, The (1996)                         -0.613787\n",
       "Evil Dead II (Dead By Dawn) (1987)            -0.611985\n",
       "Hidden, The (1987)                            -0.607167\n",
       "Rocky III (1982)                              -0.581801\n",
       "Caddyshack (1980)                             -0.573602\n",
       "For a Few Dollars More (1965)                 -0.544704\n",
       "Porky's (1981)                                -0.539489\n",
       "Animal House (1978)                           -0.538286\n",
       "Exorcist, The (1973)                          -0.529605\n",
       "Fright Night (1985)                           -0.526316\n",
       "Barb Wire (1996)                              -0.515020\n",
       "Rocky II (1979)                               -0.501515\n",
       "Beavis and Butt-head Do America (1996)        -0.498054\n",
       "Big Trouble in Little China (1986)            -0.497078\n",
       "From Dusk Till Dawn (1996)                    -0.496844\n",
       "Wild Bunch, The (1969)                        -0.491736\n",
       "Akira (1988)                                  -0.469233\n",
       "Me, Myself and Irene (2000)                   -0.467537\n",
       "Kingpin (1996)                                -0.465173\n",
       "Where Eagles Dare (1969)                      -0.448718\n",
       "Reservoir Dogs (1992)                         -0.444642\n",
       "Raging Bull (1980)                            -0.431508\n",
       "Godzilla (Gojira) (1954)                      -0.425328\n",
       "South Park: Bigger, Longer and Uncut (1999)   -0.424206\n",
       "Eyes Wide Shut (1999)                         -0.414736\n",
       "Tommy Boy (1995)                              -0.414634\n",
       "                                                 ...   \n",
       "Parent Trap, The (1961)                        0.412222\n",
       "Sense and Sensibility (1995)                   0.414056\n",
       "Beverly Hills Cop III (1994)                   0.422051\n",
       "Hope Floats (1998)                             0.423802\n",
       "Iron Eagle (1986)                              0.424817\n",
       "Corrina, Corrina (1994)                        0.430897\n",
       "Skulls, The (2000)                             0.432188\n",
       "Sommersby (1993)                               0.435603\n",
       "Gone with the Wind (1939)                      0.440471\n",
       "South Pacific (1958)                           0.442764\n",
       "Jewel of the Nile, The (1985)                  0.446157\n",
       "Casper (1995)                                  0.446695\n",
       "Never Been Kissed (1999)                       0.449636\n",
       "Sound of Music, The (1965)                     0.450259\n",
       "Grease 2 (1982)                                0.450925\n",
       "Patch Adams (1998)                             0.464536\n",
       "Mary Poppins (1964)                            0.467147\n",
       "Guys and Dolls (1955)                          0.468391\n",
       "Little Shop of Horrors, The (1960)             0.470312\n",
       "French Kiss (1995)                             0.478752\n",
       "Free Willy (1993)                              0.482573\n",
       "Age of Innocence, The (1993)                   0.487561\n",
       "Color Purple, The (1985)                       0.498851\n",
       "Rocky Horror Picture Show, The (1975)          0.512885\n",
       "Anastasia (1997)                               0.518391\n",
       "Steel Magnolias (1989)                         0.535777\n",
       "Little Women (1994)                            0.548849\n",
       "Grease (1978)                                  0.608224\n",
       "Jumpin' Jack Flash (1986)                      0.676359\n",
       "Dirty Dancing (1987)                           0.830782\n",
       "Length: 1216, dtype: float64"
      ]
     },
     "execution_count": 75,
     "metadata": {},
     "output_type": "execute_result"
    }
   ],
   "source": [
    "# female rating.mean() - men rating.mean()\n",
    "# more negative = low rated by woman, highly rated by men\n",
    "# more positive = highly rated by woman, lowly rated by women \n",
    "\n",
    "pivoted_ratings['rating'].apply(lambda x: x['F'] - x['M'], axis=1).sort_values()"
   ]
  },
  {
   "cell_type": "code",
   "execution_count": 78,
   "metadata": {},
   "outputs": [],
   "source": [
    "# highest std\n",
    "ratings_std = ungrouped_sorted_movies.groupby('title')['rating'].std()"
   ]
  },
  {
   "cell_type": "code",
   "execution_count": 79,
   "metadata": {},
   "outputs": [
    {
     "data": {
      "text/plain": [
       "title\n",
       "Dumb & Dumber (1994)                     1.321333\n",
       "Blair Witch Project, The (1999)          1.316368\n",
       "Natural Born Killers (1994)              1.307198\n",
       "Tank Girl (1995)                         1.277695\n",
       "Rocky Horror Picture Show, The (1975)    1.260177\n",
       "Name: rating, dtype: float64"
      ]
     },
     "execution_count": 79,
     "metadata": {},
     "output_type": "execute_result"
    }
   ],
   "source": [
    "ratings_std.nlargest(5)"
   ]
  },
  {
   "cell_type": "code",
   "execution_count": null,
   "metadata": {
    "collapsed": true
   },
   "outputs": [],
   "source": []
  }
 ],
 "metadata": {
  "kernelspec": {
   "display_name": "Python 3",
   "language": "python",
   "name": "python3"
  },
  "language_info": {
   "codemirror_mode": {
    "name": "ipython",
    "version": 3
   },
   "file_extension": ".py",
   "mimetype": "text/x-python",
   "name": "python",
   "nbconvert_exporter": "python",
   "pygments_lexer": "ipython3",
   "version": "3.6.3"
  }
 },
 "nbformat": 4,
 "nbformat_minor": 1
}
